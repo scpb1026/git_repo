{
 "cells": [
  {
   "cell_type": "markdown",
   "metadata": {},
   "source": [
    "## **双低可转债轮动**\n",
    "* 参考集思录帖子https://www.jisilu.cn/question/273614\n",
    "* 对可转债价格和溢价率*100进行相加，值越小排名越排前\n",
    "* 选取样本排名靠前的10只，每月轮动\n",
    "----"
   ]
  },
  {
   "cell_type": "code",
   "execution_count": 8,
   "metadata": {},
   "outputs": [],
   "source": [
    "import requests\n",
    "from pandas import Series, DataFrame\n",
    "import pandas as pd\n",
    "import numpy as np\n",
    "import json\n",
    "import datetime as dt\n",
    "import math\n",
    "\n",
    "from matplotlib import pyplot as plt\n",
    "import seaborn as sns\n",
    "sns.set_style(\"darkgrid\")\n",
    "%matplotlib inline\n",
    "# 支持中文\n",
    "plt.rcParams['font.sans-serif'] = ['SimHei']  # 用来正常显示中文标签\n",
    "plt.rcParams['axes.unicode_minus'] = False  # 用来正常显示负号"
   ]
  },
  {
   "cell_type": "code",
   "execution_count": 9,
   "metadata": {},
   "outputs": [],
   "source": [
    "class ConvertBond():\n",
    "    \"\"\"\n",
    "    类：从集思路网站爬取可转债相关数据\n",
    "    函数说明：\n",
    "    getBondData:       爬取，清洗数据，返回DataFrame\n",
    "    getBondFactor:     按照参数设定的columns，获取相应的数据，返回DataFrame\n",
    "    getBondColumns:    获取columns，具体含义须对照集思路，返回list\n",
    "    getStockSingleVIX: 获取单个股票最近一年的年化波动率，基于tushare，返回float\n",
    "    getStockVIX:       获取所有可转债对应正股的年化波动率，返回DataFrame\n",
    "    \"\"\"\n",
    "    def getBondData(self):\n",
    "        url = 'https://www.jisilu.cn/data/cbnew/cb_list/'\n",
    "        html = requests.get(url)\n",
    "        data = html.json()\n",
    "        data = data['rows']\n",
    "\n",
    "        data_per = DataFrame()\n",
    "        data_per_temp = DataFrame()\n",
    "        for i in range(len(data)):\n",
    "            data_per_temp = DataFrame(DataFrame(data[i])['cell'])\n",
    "            data_per = pd.concat([data_per, data_per_temp], axis=1)\n",
    "        bond_data = data_per.T\n",
    "        bond_data.index = np.arange(1, len(bond_data) + 1)\n",
    "        return bond_data\n",
    "\n",
    "    def getBondFactor(self, *args):\n",
    "        data = DataFrame()\n",
    "        data_temp = DataFrame()\n",
    "        for col in args:\n",
    "            if col in self.getBondData().columns.tolist():\n",
    "                data_temp = self.getBondData()[col]\n",
    "                data = pd.concat([data, data_temp], axis=1)\n",
    "            else:\n",
    "                raise KeyError('Wrong column! Key: %s' % col)\n",
    "        return data\n",
    "\n",
    "    def getBondColumns(self):\n",
    "        res = self.getBondData().columns.tolist()\n",
    "        # print(res)\n",
    "        return res\n",
    "\n",
    "    def getStockSingleVIX(self, code):\n",
    "        end = datetime.now().strftime('%Y-%m-%d')\n",
    "        start = (datetime.now() - timedelta(days=252)).strftime('%Y-%m-%d')\n",
    "        stock_data = ts.get_k_data(code, start=start, end=end)\n",
    "        stock_change_per_day = stock_data['close'].pct_change()\n",
    "        VIX = stock_change_per_day.dropna().std() * math.sqrt(252)\n",
    "        return VIX\n",
    "\n",
    "    def getStockVIX(self):\n",
    "        data = self.getBondFactor('stock_id', 'stock_nm')\n",
    "        data['VIX'] = data['stock_id'].apply(lambda x: x[2:]).apply(lambda x: self.getStockSingleVIX(x))\n",
    "        data['VIX'] = np.round(data['VIX'] * 100, 2)\n",
    "        # print(data)\n",
    "        return data"
   ]
  },
  {
   "cell_type": "code",
   "execution_count": 10,
   "metadata": {},
   "outputs": [],
   "source": [
    "df_bond = ConvertBond().getBondData()"
   ]
  },
  {
   "cell_type": "code",
   "execution_count": 11,
   "metadata": {},
   "outputs": [],
   "source": [
    "df_bond.to_excel('./test.xlsx')"
   ]
  },
  {
   "cell_type": "code",
   "execution_count": 12,
   "metadata": {},
   "outputs": [
    {
     "data": {
      "text/plain": [
       "172"
      ]
     },
     "execution_count": 12,
     "metadata": {},
     "output_type": "execute_result"
    }
   ],
   "source": [
    "len(df_bond)"
   ]
  },
  {
   "cell_type": "code",
   "execution_count": null,
   "metadata": {},
   "outputs": [],
   "source": []
  }
 ],
 "metadata": {
  "kernelspec": {
   "display_name": "Python 3",
   "language": "python",
   "name": "python3"
  },
  "language_info": {
   "codemirror_mode": {
    "name": "ipython",
    "version": 3
   },
   "file_extension": ".py",
   "mimetype": "text/x-python",
   "name": "python",
   "nbconvert_exporter": "python",
   "pygments_lexer": "ipython3",
   "version": "3.7.3"
  }
 },
 "nbformat": 4,
 "nbformat_minor": 2
}
